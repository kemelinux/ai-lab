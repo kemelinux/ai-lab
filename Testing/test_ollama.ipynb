{
 "cells": [
  {
   "cell_type": "code",
   "execution_count": 49,
   "id": "a0078c29",
   "metadata": {},
   "outputs": [
    {
     "name": "stdout",
     "output_type": "stream",
     "text": [
      "Defaulting to user installation because normal site-packages is not writeable\n",
      "Requirement already satisfied: langchain in /home/arjan/.local/lib/python3.10/site-packages (0.2.1)\n",
      "Requirement already satisfied: langchain_ollama in /home/arjan/.local/lib/python3.10/site-packages (0.1.1)\n",
      "Requirement already satisfied: langchain_core in /home/arjan/.local/lib/python3.10/site-packages (0.2.26)\n",
      "Requirement already satisfied: PyYAML>=5.3 in /usr/lib/python3/dist-packages (from langchain) (5.4.1)\n",
      "Requirement already satisfied: SQLAlchemy<3,>=1.4 in /home/arjan/.local/lib/python3.10/site-packages (from langchain) (2.0.30)\n",
      "Requirement already satisfied: aiohttp<4.0.0,>=3.8.3 in /home/arjan/.local/lib/python3.10/site-packages (from langchain) (3.9.5)\n",
      "Requirement already satisfied: async-timeout<5.0.0,>=4.0.0 in /usr/lib/python3/dist-packages (from langchain) (4.0.1)\n",
      "Requirement already satisfied: langchain-text-splitters<0.3.0,>=0.2.0 in /home/arjan/.local/lib/python3.10/site-packages (from langchain) (0.2.0)\n",
      "Requirement already satisfied: langsmith<0.2.0,>=0.1.17 in /home/arjan/.local/lib/python3.10/site-packages (from langchain) (0.1.95)\n",
      "Requirement already satisfied: numpy<2,>=1 in /home/arjan/.local/lib/python3.10/site-packages (from langchain) (1.26.4)\n",
      "Requirement already satisfied: pydantic<3,>=1 in /home/arjan/.local/lib/python3.10/site-packages (from langchain) (2.7.1)\n",
      "Requirement already satisfied: requests<3,>=2 in /home/arjan/.local/lib/python3.10/site-packages (from langchain) (2.32.3)\n",
      "Requirement already satisfied: tenacity<9.0.0,>=8.1.0 in /home/arjan/.local/lib/python3.10/site-packages (from langchain) (8.4.2)\n",
      "Requirement already satisfied: ollama<1,>=0.3.0 in /home/arjan/.local/lib/python3.10/site-packages (from langchain_ollama) (0.3.1)\n",
      "Requirement already satisfied: jsonpatch<2.0,>=1.33 in /home/arjan/.local/lib/python3.10/site-packages (from langchain_core) (1.33)\n",
      "Requirement already satisfied: packaging<25,>=23.2 in /home/arjan/.local/lib/python3.10/site-packages (from langchain_core) (23.2)\n",
      "Requirement already satisfied: typing-extensions>=4.7 in /home/arjan/.local/lib/python3.10/site-packages (from langchain_core) (4.11.0)\n",
      "Requirement already satisfied: aiosignal>=1.1.2 in /home/arjan/.local/lib/python3.10/site-packages (from aiohttp<4.0.0,>=3.8.3->langchain) (1.3.1)\n",
      "Requirement already satisfied: attrs>=17.3.0 in /usr/lib/python3/dist-packages (from aiohttp<4.0.0,>=3.8.3->langchain) (21.2.0)\n",
      "Requirement already satisfied: frozenlist>=1.1.1 in /home/arjan/.local/lib/python3.10/site-packages (from aiohttp<4.0.0,>=3.8.3->langchain) (1.4.1)\n",
      "Requirement already satisfied: multidict<7.0,>=4.5 in /home/arjan/.local/lib/python3.10/site-packages (from aiohttp<4.0.0,>=3.8.3->langchain) (6.0.5)\n",
      "Requirement already satisfied: yarl<2.0,>=1.0 in /home/arjan/.local/lib/python3.10/site-packages (from aiohttp<4.0.0,>=3.8.3->langchain) (1.9.4)\n",
      "Requirement already satisfied: jsonpointer>=1.9 in /home/arjan/.local/lib/python3.10/site-packages (from jsonpatch<2.0,>=1.33->langchain_core) (2.4)\n",
      "Requirement already satisfied: orjson<4.0.0,>=3.9.14 in /home/arjan/.local/lib/python3.10/site-packages (from langsmith<0.2.0,>=0.1.17->langchain) (3.10.3)\n",
      "Requirement already satisfied: httpx<0.28.0,>=0.27.0 in /home/arjan/.local/lib/python3.10/site-packages (from ollama<1,>=0.3.0->langchain_ollama) (0.27.0)\n",
      "Requirement already satisfied: annotated-types>=0.4.0 in /home/arjan/.local/lib/python3.10/site-packages (from pydantic<3,>=1->langchain) (0.6.0)\n",
      "Requirement already satisfied: pydantic-core==2.18.2 in /home/arjan/.local/lib/python3.10/site-packages (from pydantic<3,>=1->langchain) (2.18.2)\n",
      "Requirement already satisfied: charset-normalizer<4,>=2 in /home/arjan/.local/lib/python3.10/site-packages (from requests<3,>=2->langchain) (3.3.2)\n",
      "Requirement already satisfied: idna<4,>=2.5 in /usr/lib/python3/dist-packages (from requests<3,>=2->langchain) (3.3)\n",
      "Requirement already satisfied: urllib3<3,>=1.21.1 in /home/arjan/.local/lib/python3.10/site-packages (from requests<3,>=2->langchain) (2.2.2)\n",
      "Requirement already satisfied: certifi>=2017.4.17 in /usr/lib/python3/dist-packages (from requests<3,>=2->langchain) (2020.6.20)\n",
      "Requirement already satisfied: greenlet!=0.4.17 in /home/arjan/.local/lib/python3.10/site-packages (from SQLAlchemy<3,>=1.4->langchain) (3.0.3)\n",
      "Requirement already satisfied: anyio in /home/arjan/.local/lib/python3.10/site-packages (from httpx<0.28.0,>=0.27.0->ollama<1,>=0.3.0->langchain_ollama) (4.4.0)\n",
      "Requirement already satisfied: httpcore==1.* in /home/arjan/.local/lib/python3.10/site-packages (from httpx<0.28.0,>=0.27.0->ollama<1,>=0.3.0->langchain_ollama) (1.0.5)\n",
      "Requirement already satisfied: sniffio in /home/arjan/.local/lib/python3.10/site-packages (from httpx<0.28.0,>=0.27.0->ollama<1,>=0.3.0->langchain_ollama) (1.3.1)\n",
      "Requirement already satisfied: h11<0.15,>=0.13 in /home/arjan/.local/lib/python3.10/site-packages (from httpcore==1.*->httpx<0.28.0,>=0.27.0->ollama<1,>=0.3.0->langchain_ollama) (0.14.0)\n",
      "Requirement already satisfied: exceptiongroup>=1.0.2 in /home/arjan/.local/lib/python3.10/site-packages (from anyio->httpx<0.28.0,>=0.27.0->ollama<1,>=0.3.0->langchain_ollama) (1.2.1)\n",
      "\n",
      "\u001b[1m[\u001b[0m\u001b[34;49mnotice\u001b[0m\u001b[1;39;49m]\u001b[0m\u001b[39;49m A new release of pip is available: \u001b[0m\u001b[31;49m24.0\u001b[0m\u001b[39;49m -> \u001b[0m\u001b[32;49m24.2\u001b[0m\n",
      "\u001b[1m[\u001b[0m\u001b[34;49mnotice\u001b[0m\u001b[1;39;49m]\u001b[0m\u001b[39;49m To update, run: \u001b[0m\u001b[32;49mpython3 -m pip install --upgrade pip\u001b[0m\n",
      "Note: you may need to restart the kernel to use updated packages.\n"
     ]
    }
   ],
   "source": [
    "pip install langchain langchain_ollama langchain_core"
   ]
  },
  {
   "cell_type": "code",
   "execution_count": 50,
   "id": "a884ec38",
   "metadata": {},
   "outputs": [],
   "source": [
    "from langchain_core.prompts import ChatPromptTemplate\n",
    "from langchain_ollama.llms import OllamaLLM"
   ]
  },
  {
   "cell_type": "code",
   "execution_count": 53,
   "id": "4e57f946",
   "metadata": {},
   "outputs": [
    {
     "name": "stdout",
     "output_type": "stream",
     "text": [
      "#######################################\n",
      "Model: llama3\n",
      "Result: Failed\n",
      "Output: Let's break this down step by step:\n",
      "\n",
      "* Maria has 3 brothers, which means her parents had 4 children in total (Maria and the 3 brothers).\n",
      "* Each of Maria's brothers has 2 sisters, but these are not necessarily siblings of Maria's.\n",
      "* Since each brother has 2 sisters, that means there are a total of 6 sisters (2 sisters per brother, times 3 brothers).\n",
      "\n",
      "Now, some of these 6 sisters may be siblings of Maria's, and some may not. But we can conclude that Maria has at least 2 sisters, because her parents had 4 children in total, and 3 of those are definitely her brothers.\n",
      "\n",
      "To find the exact number of sisters who are siblings of Maria's, we need to subtract the 3 brothers from the total number of siblings: 6 sisters - 3 brothers = 3 sisters\n",
      "\n",
      "So, Maria has 3 sisters.\n",
      " \n",
      " \n",
      "#######################################\n",
      "Model: llama3\n",
      "Result: Correct\n",
      "Output: The answer is... 18!\n",
      " \n",
      " \n"
     ]
    }
   ],
   "source": [
    "llm = \"llama3\"\n",
    "\n",
    "class result: \n",
    "    model = \"\"\n",
    "    status = \"Failed\"\n",
    "    output = \"\"\n",
    "\n",
    "class test:\n",
    "    question = \"\"\n",
    "    answer = \"\"\n",
    "    \n",
    "test_batch = []\n",
    "        \n",
    "def test_llm(llm, test):\n",
    "    result.model = llm\n",
    "    result.status = \"Failed\"\n",
    "    \n",
    "    template = \"\"\"Question: {question}\n",
    "    Answer: The answer is.\"\"\"\n",
    "    prompt = ChatPromptTemplate.from_template(template)\n",
    "    model = OllamaLLM(model=llm)\n",
    "    chain = prompt | model\n",
    "    result.output = chain.invoke({\"question\": test.question})\n",
    "    if test.answer in result.output:\n",
    "        result.status = \"Correct\"\n",
    "    #return test\n",
    "    print(\"#######################################\")\n",
    "    print(\"Model: \"+ result.model)\n",
    "    print(\"Result: \"+ result.status)\n",
    "    print(\"Output: \"+ result.output)\n",
    "    print(\" \")\n",
    "    print(\" \")\n",
    "\n",
    "test1 = test()\n",
    "test1.question = \"Maria who is a woman has 3 brothers. Each brother has 2 sisters. How many sisters does Maria have?\"\n",
    "test1.answer = \"1 sister\"\n",
    "test_batch.append(test1)\n",
    "\n",
    "test2 = test()\n",
    "test2.question = \"How much is 6 times 3\"\n",
    "test2.answer = \"18!\"\n",
    "test_batch.append(test2)\n",
    "\n",
    "for x in test_batch:\n",
    "    test_llm(llm, x)\n",
    "\n"
   ]
  },
  {
   "cell_type": "code",
   "execution_count": null,
   "id": "902281b6",
   "metadata": {},
   "outputs": [],
   "source": []
  }
 ],
 "metadata": {
  "kernelspec": {
   "display_name": "Python 3 (ipykernel)",
   "language": "python",
   "name": "python3"
  },
  "language_info": {
   "codemirror_mode": {
    "name": "ipython",
    "version": 3
   },
   "file_extension": ".py",
   "mimetype": "text/x-python",
   "name": "python",
   "nbconvert_exporter": "python",
   "pygments_lexer": "ipython3",
   "version": "3.10.12"
  }
 },
 "nbformat": 4,
 "nbformat_minor": 5
}
