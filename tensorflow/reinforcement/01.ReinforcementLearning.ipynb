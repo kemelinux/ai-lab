{
 "cells": [
  {
   "cell_type": "code",
   "execution_count": 37,
   "id": "d570357f-293a-426c-a677-87f0eb89e53f",
   "metadata": {},
   "outputs": [
    {
     "name": "stdout",
     "output_type": "stream",
     "text": [
      "/bin/bash: /home/arjan/miniconda3/envs/tf/lib/libtinfo.so.6: no version information available (required by /bin/bash)\n",
      "Collecting gym==0.17.3\n",
      "  Using cached gym-0.17.3-py3-none-any.whl\n",
      "Requirement already satisfied: scipy in /home/arjan/.local/lib/python3.10/site-packages (from gym==0.17.3) (1.13.0)\n",
      "Requirement already satisfied: numpy>=1.10.4 in /home/arjan/.local/lib/python3.10/site-packages (from gym==0.17.3) (1.26.4)\n",
      "Requirement already satisfied: pyglet<=1.5.0,>=1.4.0 in /home/arjan/miniconda3/envs/tf/lib/python3.10/site-packages (from gym==0.17.3) (1.5.0)\n",
      "Requirement already satisfied: cloudpickle<1.7.0,>=1.2.0 in /home/arjan/miniconda3/envs/tf/lib/python3.10/site-packages (from gym==0.17.3) (1.6.0)\n",
      "Requirement already satisfied: future in /home/arjan/miniconda3/envs/tf/lib/python3.10/site-packages (from pyglet<=1.5.0,>=1.4.0->gym==0.17.3) (1.0.0)\n",
      "Installing collected packages: gym\n",
      "Successfully installed gym-0.17.3\n",
      "Note: you may need to restart the kernel to use updated packages.\n"
     ]
    }
   ],
   "source": [
    "pip install gym==0.17.3"
   ]
  },
  {
   "cell_type": "code",
   "execution_count": 3,
   "id": "da529e35-744c-4289-86c9-afec51c03146",
   "metadata": {},
   "outputs": [],
   "source": [
    "import gym\n",
    "env = gym.make('FrozenLake-v0')"
   ]
  },
  {
   "cell_type": "code",
   "execution_count": 4,
   "id": "c9bfd497-9e4d-4d48-b6f6-75d59ce2d407",
   "metadata": {},
   "outputs": [
    {
     "name": "stdout",
     "output_type": "stream",
     "text": [
      "16\n",
      "4\n"
     ]
    }
   ],
   "source": [
    "print(env.observation_space.n)\n",
    "print(env.action_space.n)"
   ]
  },
  {
   "cell_type": "code",
   "execution_count": 5,
   "id": "4242ce3a-e7da-46d9-bac6-1742d641268d",
   "metadata": {},
   "outputs": [
    {
     "data": {
      "text/plain": [
       "0"
      ]
     },
     "execution_count": 5,
     "metadata": {},
     "output_type": "execute_result"
    }
   ],
   "source": [
    "env.reset()"
   ]
  },
  {
   "cell_type": "code",
   "execution_count": 6,
   "id": "83c48b10-f2d2-476b-a690-b69f24dff11b",
   "metadata": {},
   "outputs": [
    {
     "name": "stdout",
     "output_type": "stream",
     "text": [
      "0\n"
     ]
    }
   ],
   "source": [
    "action = env.action_space.sample()\n",
    "print(action)"
   ]
  },
  {
   "cell_type": "code",
   "execution_count": 8,
   "id": "a5b331ae-c715-4b4f-abf3-3ea44e3101b5",
   "metadata": {},
   "outputs": [
    {
     "name": "stdout",
     "output_type": "stream",
     "text": [
      "4\n",
      "0.0\n",
      "False\n",
      "{'prob': 0.3333333333333333}\n"
     ]
    }
   ],
   "source": [
    "new_state, reward, done, info = env.step(action)\n",
    "print(new_state)\n",
    "print(reward)\n",
    "print(done)\n",
    "print(info)"
   ]
  },
  {
   "cell_type": "code",
   "execution_count": 9,
   "id": "dfa754c5-8373-4982-be96-7891336b6a3d",
   "metadata": {},
   "outputs": [
    {
     "name": "stdout",
     "output_type": "stream",
     "text": [
      "  (Left)\n",
      "SFFF\n",
      "\u001b[41mF\u001b[0mHFH\n",
      "FFFH\n",
      "HFFG\n"
     ]
    }
   ],
   "source": [
    "env.render()"
   ]
  },
  {
   "cell_type": "code",
   "execution_count": null,
   "id": "0dd3a88d-926c-446c-b119-676015ab0bcd",
   "metadata": {},
   "outputs": [],
   "source": []
  }
 ],
 "metadata": {
  "kernelspec": {
   "display_name": "Python 3 (ipykernel)",
   "language": "python",
   "name": "python3"
  },
  "language_info": {
   "codemirror_mode": {
    "name": "ipython",
    "version": 3
   },
   "file_extension": ".py",
   "mimetype": "text/x-python",
   "name": "python",
   "nbconvert_exporter": "python",
   "pygments_lexer": "ipython3",
   "version": "3.10.14"
  }
 },
 "nbformat": 4,
 "nbformat_minor": 5
}
