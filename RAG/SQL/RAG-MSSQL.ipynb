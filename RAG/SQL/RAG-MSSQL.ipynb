{
 "cells": [
  {
   "cell_type": "code",
   "execution_count": null,
   "id": "5035923f",
   "metadata": {
    "scrolled": true
   },
   "outputs": [],
   "source": [
    "pip install langchain langchain-experimental pymysql pymssql pyparsing openai tensorboard-data-server"
   ]
  },
  {
   "cell_type": "code",
   "execution_count": null,
   "id": "e97d9a06",
   "metadata": {
    "scrolled": true
   },
   "outputs": [],
   "source": [
    "#pip install -U langchain-openai"
   ]
  },
  {
   "cell_type": "code",
   "execution_count": null,
   "id": "48c0367e",
   "metadata": {},
   "outputs": [],
   "source": [
    "# We beginnen met de componenten te importeren\n",
    "from langchain.sql_database import SQLDatabase\n",
    "from langchain_experimental.sql import SQLDatabaseChain\n",
    "from langchain.prompts import PromptTemplate\n",
    "from langchain.prompts.chat import HumanMessagePromptTemplate, ChatPromptTemplate\n",
    "from langchain.schema import HumanMessage, SystemMessage\n"
   ]
  },
  {
   "cell_type": "code",
   "execution_count": null,
   "id": "1f4b7974",
   "metadata": {},
   "outputs": [],
   "source": [
    "# Importeer OpenAI om hun externe API te gebruiken ipv een lokale LLM\n",
    "# ####################################################################\n",
    "#from langchain.llms import OpenAI\n",
    "#from langchain_openai import ChatOpenAI\n",
    "\n",
    "# OPEN AI LLM initialiseren\n",
    "#OPENAI_API_KEY = \"<jouw OpenAI Key>\"\n",
    "#llm = ChatOpenAI(temperature=0, openai_api_key=OPENAI_API_KEY)"
   ]
  },
  {
   "cell_type": "code",
   "execution_count": null,
   "id": "118f1445",
   "metadata": {},
   "outputs": [],
   "source": [
    "# Importeer Ollama om de lokale LLM aan te spreken\n",
    "# ###################################################################\n",
    "from langchain_community.llms import Ollama\n",
    "\n",
    "# Lokale LLM Gebruiken\n",
    "llm = Ollama(\n",
    "    temperature=0, \n",
    "    model=\"openchat\" # codellama | mixtral \n",
    ")\n"
   ]
  },
  {
   "cell_type": "code",
   "execution_count": null,
   "id": "d1061ca9",
   "metadata": {},
   "outputs": [],
   "source": [
    "# LLM testen\n",
    "# llm.invoke(\"Tell me a joke\")"
   ]
  },
  {
   "cell_type": "code",
   "execution_count": null,
   "id": "3daa2316",
   "metadata": {},
   "outputs": [],
   "source": [
    "# Bron: http://docs.sqlalchemy.org/en/latest/dialects/mssql.html \n",
    "# https://python.langchain.com/v0.1/docs/use_cases/sql/quickstart/\n",
    "host = '127.0.0.1'\n",
    "port = '1433'\n",
    "username = 'afm'\n",
    "password = 'afm'\n",
    "database_schema = 'afmscm_202401'\n",
    "mssql_uri = f\"mssql+pymssql://{username}:{password}@{host}:{port}/{database_schema}\"\n",
    "db = SQLDatabase.from_uri(mssql_uri,include_tables=['afm_flds','afm_tbls'],sample_rows_in_table_info=1)\n",
    "db_chain = SQLDatabaseChain.from_llm(llm, db, use_query_checker=True, verbose=True)"
   ]
  },
  {
   "cell_type": "code",
   "execution_count": null,
   "id": "cbc906aa",
   "metadata": {},
   "outputs": [],
   "source": [
    "db.run(\"SELECT top 1 afm_flds.table_name FROM afm_flds;\")"
   ]
  },
  {
   "cell_type": "code",
   "execution_count": null,
   "id": "2e8acc06",
   "metadata": {},
   "outputs": [],
   "source": [
    "context=(\n",
    "                \"\"\"Context:\n",
    "    All the database tables are stored in \"afm_tbls\" with: \n",
    "    table_name : primary key\n",
    "    title : table name\n",
    "    is_sql_view : is this an SQL view or table\n",
    "    \n",
    "    All the tables field names are stored in \"afm_flds\" table with the following columns per field:\n",
    "    table_name : name of table to which the field belongs\n",
    "    field_name : field name\n",
    "    ml_heading : multi line heading also known and the title or name\n",
    "    afm_size : the field length\n",
    "    data_type : the data type of the field, which is an enumeration value \n",
    "    enum_list : possible enumeration values in key;value format\n",
    "    ref_table : reference table validating the data via foreign keys\n",
    "    pkey_value : value greater then 0 is a primary key of a table \"\"\"\n",
    "            )"
   ]
  },
  {
   "cell_type": "code",
   "execution_count": null,
   "id": "d5f9db99",
   "metadata": {},
   "outputs": [],
   "source": [
    "def ask_db(question: str) -> str:\n",
    "    from langchain.chains import create_sql_query_chain\n",
    "    db_chain = SQLDatabaseChain.from_llm(llm,db,use_query_checker=True, verbose=False)\n",
    "    response = db_chain.run(context + question)\n",
    "    return response"
   ]
  },
  {
   "cell_type": "markdown",
   "id": "f040c3ab",
   "metadata": {},
   "source": [
    "# Nu gaan we de database ondervragen"
   ]
  },
  {
   "cell_type": "code",
   "execution_count": null,
   "id": "91d4923e",
   "metadata": {
    "scrolled": true
   },
   "outputs": [],
   "source": [
    "ask_db(\"what is the multi line heading of the rm_id field in rm\")"
   ]
  },
  {
   "cell_type": "code",
   "execution_count": null,
   "id": "f2de31ea",
   "metadata": {},
   "outputs": [],
   "source": [
    "ask_db(\"What is the enumeration list of the field prorate from table rm?\")"
   ]
  },
  {
   "cell_type": "code",
   "execution_count": null,
   "id": "96eede45",
   "metadata": {},
   "outputs": [],
   "source": [
    "ask_db(\"list me the fields that are part of the primary key of the table fl\")"
   ]
  },
  {
   "cell_type": "code",
   "execution_count": null,
   "id": "3640fac3",
   "metadata": {},
   "outputs": [],
   "source": [
    "ask_db(\"what is the reference table of bl_id in the table rm?\")"
   ]
  },
  {
   "cell_type": "code",
   "execution_count": null,
   "id": "62029169",
   "metadata": {},
   "outputs": [],
   "source": []
  }
 ],
 "metadata": {
  "kernelspec": {
   "display_name": "Python 3 (ipykernel)",
   "language": "python",
   "name": "python3"
  },
  "language_info": {
   "codemirror_mode": {
    "name": "ipython",
    "version": 3
   },
   "file_extension": ".py",
   "mimetype": "text/x-python",
   "name": "python",
   "nbconvert_exporter": "python",
   "pygments_lexer": "ipython3",
   "version": "3.10.12"
  }
 },
 "nbformat": 4,
 "nbformat_minor": 5
}
